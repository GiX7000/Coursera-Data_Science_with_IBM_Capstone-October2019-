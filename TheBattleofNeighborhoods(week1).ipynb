{
 "cells": [
  {
   "cell_type": "markdown",
   "metadata": {},
   "source": [
    "# The Battle of Neighbourhoods"
   ]
  },
  {
   "cell_type": "markdown",
   "metadata": {},
   "source": [
    "### **Introduction: Business Problem**"
   ]
  },
  {
   "cell_type": "markdown",
   "metadata": {},
   "source": [
    "In this project, we will try to find a possible good location for a health food and supplements store. Specifically, a well-known asian health food and supplements stores chain is interested in expanding their businesses in London, by opening a new such store.\n",
    "\n",
    "Since there are lots of online-shops, in which customers can buy what they want, stakeholders target to an audience of people, who have already adopted or try to start, somehow, a healthy lifestyle. As company is alraedy successful, therefore, they are going to use the same recipe of success and try to open a store near venues such gyms and sports centers."
   ]
  },
  {
   "cell_type": "markdown",
   "metadata": {},
   "source": [
    "### Data"
   ]
  },
  {
   "cell_type": "markdown",
   "metadata": {},
   "source": [
    "Based on definition of the problem, we will need to find where venues like gyms/sports centers located in London. For this reason, we are going to use Foursquare API in order to get nearest venues of each neighborouhood. Regarding neighbourhoods, we will use Google Maps geocoding API to get coordinates of each of them. We, previously, get London's neighbourhood list from wikipedia, by using the appropriate library. By using combined data, we will suggest some good location for opening a healthy food and supplement store."
   ]
  },
  {
   "cell_type": "code",
   "execution_count": null,
   "metadata": {},
   "outputs": [],
   "source": []
  }
 ],
 "metadata": {
  "kernelspec": {
   "display_name": "Python 3",
   "language": "python",
   "name": "python3"
  },
  "language_info": {
   "codemirror_mode": {
    "name": "ipython",
    "version": 3
   },
   "file_extension": ".py",
   "mimetype": "text/x-python",
   "name": "python",
   "nbconvert_exporter": "python",
   "pygments_lexer": "ipython3",
   "version": "3.7.4"
  }
 },
 "nbformat": 4,
 "nbformat_minor": 2
}
